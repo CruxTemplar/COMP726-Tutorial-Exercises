{
  "nbformat": 4,
  "nbformat_minor": 0,
  "metadata": {
    "colab": {
      "provenance": [],
      "authorship_tag": "ABX9TyOlSZaeJLBwuUzCJebcSA69",
      "include_colab_link": true
    },
    "kernelspec": {
      "name": "python3",
      "display_name": "Python 3"
    },
    "language_info": {
      "name": "python"
    }
  },
  "cells": [
    {
      "cell_type": "markdown",
      "metadata": {
        "id": "view-in-github",
        "colab_type": "text"
      },
      "source": [
        "<a href=\"https://colab.research.google.com/github/CruxTemplar/COMP726-Tutorial-Exercises/blob/main/Exercise_1.ipynb\" target=\"_parent\"><img src=\"https://colab.research.google.com/assets/colab-badge.svg\" alt=\"Open In Colab\"/></a>"
      ]
    },
    {
      "cell_type": "markdown",
      "source": [
        "# Exercise 1\n",
        "## Question 1\n",
        "\n",
        "Mining difficulty is not only represented by leading zeroes (powers of 16) but by a value (hex number) that is recalculated every 2016 blocks (in Bitcoin). Write a script demonstrating simplified proof-of-work, using\n",
        "\n",
        "*'if hash < target: block_found = True'*\n",
        "\n",
        "\n",
        "and run your simplified proof-of-work in two different difficulties."
      ],
      "metadata": {
        "id": "uAHA54OIQuQr"
      }
    },
    {
      "cell_type": "code",
      "source": [
        "import hashlib\n",
        "import time\n",
        "\n",
        "def proof_of_work(data, difficulty_bits):\n",
        "    target = 2 << (256 - difficulty_bits)\n",
        "    nonce = 0\n",
        "    start_time = time.time()\n",
        "    while True:\n",
        "        block_data = f\"{data}{nonce}\".encode('utf-8')\n",
        "        hash_bytes = hashlib.sha256(block_data).digest()\n",
        "        hash_int = int.from_bytes(hash_bytes, 'big')\n",
        "        if hash_int < target:\n",
        "            elapsed_time = time.time() - start_time\n",
        "            print(f\"Block found!\")\n",
        "            print(f\"Nonce: {nonce}\")\n",
        "            print(f\"Hash: {hash_int}\")\n",
        "            print(f\"Difficulty: {difficulty_bits} bits\")\n",
        "            print(f\"Elapsed time: {elapsed_time:.2f} seconds\\n\")\n",
        "            return nonce, hash_int, elapsed_time\n",
        "        nonce += 1\n",
        "\n",
        "# Test script with two difficulties\n",
        "#data = \"ProofOfWorkDemo\"\n",
        "\n",
        "print(\"Demonstrating difficulty 20 bits\")\n",
        "result_20_bits = proof_of_work(data, 20)\n",
        "\n",
        "print(\"Demonstrating difficulty 24 bits\")\n",
        "result_24_bits = proof_of_work(data, 24)"
      ],
      "metadata": {
        "id": "gANG86l__Jo5"
      },
      "execution_count": null,
      "outputs": []
    },
    {
      "cell_type": "markdown",
      "source": [
        "##Question 2\n",
        "\n",
        "Write a script to modify the difficulty every time a block is found faster than expected (increase difficulty) and readjusts if a block is found slower than expected (decrease difficulty)."
      ],
      "metadata": {
        "id": "tyYKu-8o3qTp"
      }
    },
    {
      "cell_type": "code",
      "source": [
        "import hashlib\n",
        "import time\n",
        "\n",
        "def proof_of_work(data, difficulty_bits):\n",
        "    target = 1 << (256 - difficulty_bits)\n",
        "    nonce = 0\n",
        "    start_time = time.time()\n",
        "\n",
        "    while True:\n",
        "        block_data = f\"{data}{nonce}\".encode('utf-8')\n",
        "        hash_result = hashlib.sha256(block_data).hexdigest()\n",
        "\n",
        "        if int(hash_result, 16) < target:\n",
        "            elapsed_time = time.time() - start_time\n",
        "            print(f\"Block found!\")\n",
        "            print(f\"Nonce: {nonce}\")\n",
        "            print(f\"Hash: {hash_result}\")\n",
        "            print(f\"Difficulty: {difficulty_bits} bits\")\n",
        "            print(f\"Elapsed time: {elapsed_time:.2f} seconds\\n\")\n",
        "            return nonce, hash_result, elapsed_time\n",
        "        nonce += 1\n",
        "\n",
        "# Parameters\n",
        "target_time = 5.0  # seconds per block (expected)\n",
        "num_blocks = 5     # number of blocks to mine\n",
        "difficulty_bits = 20  # initial difficulty\n",
        "\n",
        "for height in range(1, num_blocks + 1):\n",
        "    print(f\"--- Mining block {height} at difficulty {difficulty_bits} ---\")\n",
        "    nonce, h, elapsed = proof_of_work(f\"Block{height}\", difficulty_bits)\n",
        "\n",
        "    # Difficulty adjustment\n",
        "    if elapsed < target_time / 2:\n",
        "        difficulty_bits += 1\n",
        "        print(f\"⏫ Block mined too fast ({elapsed:.2f}s). Increasing difficulty → {difficulty_bits}\\n\")\n",
        "    elif elapsed > target_time * 2:\n",
        "        difficulty_bits = max(1, difficulty_bits - 1)\n",
        "        print(f\"⏬ Block mined too slow ({elapsed:.2f}s). Decreasing difficulty → {difficulty_bits}\\n\")\n",
        "    else:\n",
        "        print(f\"⏸️ Block time acceptable ({elapsed:.2f}s). Difficulty stays at {difficulty_bits}\\n\")\n"
      ],
      "metadata": {
        "id": "bLlqd_B13vqX"
      },
      "execution_count": null,
      "outputs": []
    },
    {
      "cell_type": "markdown",
      "source": [
        "## Question 3\n",
        "\n",
        "####*Can you have a proof-of-work blockchain with a realtime difficulty adjustment?*\n",
        "\n",
        "####*What are some of the advantages of this setup? Are there any limitations?*\n",
        "---\n",
        "\n",
        "In theory, a proof-of-work blockchain is able to have a realtime difficulty adjustment as the blockchain is reliant on how long it takes for the block to get solved. This is the 'difficulty' aspect that helps the block from being solved too fast. By having a realtime difficulty adjustment, the blockchain is able to control how fast each block is being solved. If it turns out that its taking too long to solve a block (For example, Bitcoin adjusts its difficulty every 2016 blocks) , it will lower the difficulty to ensure the block can be solved in less time than the previous block. This can be said if the block is solved too fast; it will increase the difficulty for the next block.\n",
        "\n",
        "Some advantages of this setup are faster response times where block times are able to adjust depending on the number of miners entering and exiting the blockchain. This is extremely beneficial for small blockchains where the number of miners are low and few which requires a large amount of mining power to output blocks but at the same time, not letting the blockchain output too many blocks at once. However, this can result in a vulnerable blockchain as miners are able to exploit shorter times as a result of a lower difficulty by manipulting fake timestamps. Oscilating difficulty levels can also make the network less predictable and easier for miners to exploit the blockchain."
      ],
      "metadata": {
        "id": "ceObi-YuIvN0"
      }
    }
  ]
}