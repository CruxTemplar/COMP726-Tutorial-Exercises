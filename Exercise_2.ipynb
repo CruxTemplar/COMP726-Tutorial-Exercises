{
  "nbformat": 4,
  "nbformat_minor": 0,
  "metadata": {
    "colab": {
      "provenance": [],
      "authorship_tag": "ABX9TyNo1Xo9dTTnaiSZ2F4pJaXk",
      "include_colab_link": true
    },
    "kernelspec": {
      "name": "python3",
      "display_name": "Python 3"
    },
    "language_info": {
      "name": "python"
    }
  },
  "cells": [
    {
      "cell_type": "markdown",
      "metadata": {
        "id": "view-in-github",
        "colab_type": "text"
      },
      "source": [
        "<a href=\"https://colab.research.google.com/github/CruxTemplar/COMP726-Tutorial-Exercises/blob/main/Exercise_2.ipynb\" target=\"_parent\"><img src=\"https://colab.research.google.com/assets/colab-badge.svg\" alt=\"Open In Colab\"/></a>"
      ]
    },
    {
      "cell_type": "markdown",
      "source": [
        "# Exercise 2"
      ],
      "metadata": {
        "id": "BD4keLeBPiuW"
      }
    },
    {
      "cell_type": "markdown",
      "source": [
        "##Question 4\n",
        "\n",
        "Using remix, modify the Storage.sol contract to store and retrieve a text variable: yourName. How much gas does this use, how does this compare to storing an integer?"
      ],
      "metadata": {
        "id": "taTwLlDmPtiR"
      }
    },
    {
      "cell_type": "code",
      "source": [
        "//To be executed via Remix Ethereum IDE\n",
        "\n",
        "// SPDX-License-Identifier: GPL-3.0\n",
        "\n",
        "pragma solidity >=0.8.2 <0.9.0;\n",
        "\n",
        "/**\n",
        " * @title Storage\n",
        " * @dev Store & retrieve number and a string\n",
        " * @custom:dev-run-script ./scripts/deploy_with_ethers.ts\n",
        " */\n",
        "contract Storage {\n",
        "\n",
        "    uint256 number;\n",
        "    string yourName;\n",
        "\n",
        "    /**\n",
        "     * @dev Store value in variable\n",
        "     * @param num value to store\n",
        "     */\n",
        "    function store(uint256 num) public {\n",
        "        number = num;\n",
        "    }\n",
        "\n",
        "    /**\n",
        "     * @dev Return value\n",
        "     * @return value of 'number'\n",
        "     */\n",
        "    function retrieve() public view returns (uint256){\n",
        "        return number;\n",
        "    }\n",
        "\n",
        "    /**\n",
        "     * @dev Store a string value in yourName\n",
        "     * @param name value to store\n",
        "     */\n",
        "    function storeName(string memory name) public {\n",
        "        yourName = name;\n",
        "    }\n",
        "\n",
        "    /**\n",
        "     * @dev Return value of yourName\n",
        "     * @return value of 'yourName'\n",
        "     */\n",
        "    function retrieveName() public view returns (string memory){\n",
        "        return yourName;\n",
        "    }\n",
        "}\n"
      ],
      "metadata": {
        "id": "5BborEsrPzcm"
      },
      "execution_count": null,
      "outputs": []
    },
    {
      "cell_type": "markdown",
      "source": [
        "Storing a text variable cost the contract **25243** gas. Retrieving the text variable cost the contract **3329** gas.\n",
        "\n",
        "In terms of comparision, storing a integer and storing a text variable have a similar gas cost. Storing is considered the most expensive part of gas costs since it requires writing into the contract for the first time, roughly **23000** gas for either an integer or a text variable.\n",
        "\n",
        "Depending on the size and length of both the integer and text variable, you can find that storing a fixed integer costs less than a text variable. This is due to how Ethereum storage works. Ethereum Storage is organized into 32 bytes slots. Integers, most notably the **uint256** class are always 32 bytes and fit perfectly in Etherum Storage. However, text variables or **strings** are considered dynamic length and calculate each letter used as one byte. This results in text variables needing 2 slots, costing more if it exceeds the 32 bytes of memory in the Ethereum Storage.   "
      ],
      "metadata": {
        "id": "J4MMUfre8Md0"
      }
    },
    {
      "cell_type": "markdown",
      "source": [
        "## Question 5\n",
        "Where is a deployed contract stored in Ethereum? Comment on the different gas costs for:\n",
        "\n",
        " a) deploying a contract,\n",
        "\n",
        " b) calling a function, and\n",
        "\n",
        " c) storing an address."
      ],
      "metadata": {
        "id": "1novASf7l5rB"
      }
    },
    {
      "cell_type": "markdown",
      "source": [
        "When a contract is deployed, it is stored in the Ethereum Blockchain at a unique contract address. This contract address is the Etherum Address that enables other contracts and accounts to interact with the deployed contract.\n",
        "\n",
        "The different gas costs for deploying a contract, calling a function and storing an address"
      ],
      "metadata": {
        "id": "BeyeDN2XbQ9-"
      }
    },
    {
      "cell_type": "markdown",
      "source": [
        "## Question 6\n",
        "\n",
        "Above, where it says STORAGE AT 0X...., what does this mean? Are there differences between someone's Ethereum Address and where your contract is stored?"
      ],
      "metadata": {
        "id": "R8K2yzlemM6l"
      }
    }
  ]
}