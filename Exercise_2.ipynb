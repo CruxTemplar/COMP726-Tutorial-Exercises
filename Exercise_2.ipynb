{
  "nbformat": 4,
  "nbformat_minor": 0,
  "metadata": {
    "colab": {
      "provenance": [],
      "authorship_tag": "ABX9TyNgVdavh5u8iWzzSvrmryAI",
      "include_colab_link": true
    },
    "kernelspec": {
      "name": "python3",
      "display_name": "Python 3"
    },
    "language_info": {
      "name": "python"
    }
  },
  "cells": [
    {
      "cell_type": "markdown",
      "metadata": {
        "id": "view-in-github",
        "colab_type": "text"
      },
      "source": [
        "<a href=\"https://colab.research.google.com/github/CruxTemplar/COMP726-Tutorial-Exercises/blob/main/Exercise_2.ipynb\" target=\"_parent\"><img src=\"https://colab.research.google.com/assets/colab-badge.svg\" alt=\"Open In Colab\"/></a>"
      ]
    },
    {
      "cell_type": "markdown",
      "source": [
        "# Exercise 2"
      ],
      "metadata": {
        "id": "BD4keLeBPiuW"
      }
    },
    {
      "cell_type": "markdown",
      "source": [
        "##Question 4\n",
        "\n",
        "Using remix, modify the Storage.sol contract to store and retrieve a text variable: yourName. How much gas does this use, how does this compare to storing an integer?"
      ],
      "metadata": {
        "id": "taTwLlDmPtiR"
      }
    },
    {
      "cell_type": "code",
      "source": [],
      "metadata": {
        "id": "5BborEsrPzcm"
      },
      "execution_count": null,
      "outputs": []
    },
    {
      "cell_type": "markdown",
      "source": [
        "## Question 5\n",
        "Where is a deployed contract stored in Ethereum? Comment on the different gas costs for:\n",
        "\n",
        " a) deploying a contract,\n",
        "\n",
        " b) calling a function, and\n",
        "\n",
        " c) storing an address."
      ],
      "metadata": {
        "id": "1novASf7l5rB"
      }
    },
    {
      "cell_type": "markdown",
      "source": [
        "## Question 6\n",
        "\n",
        "Above, where it says STORAGE AT 0X...., what does this mean? Are there differences between someone's Ethereum Address and where your contract is stored?"
      ],
      "metadata": {
        "id": "R8K2yzlemM6l"
      }
    }
  ]
}