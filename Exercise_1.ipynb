{
  "nbformat": 4,
  "nbformat_minor": 0,
  "metadata": {
    "colab": {
      "provenance": [],
      "authorship_tag": "ABX9TyOgiRCX/k64Q0/91GKAE6Rz",
      "include_colab_link": true
    },
    "kernelspec": {
      "name": "python3",
      "display_name": "Python 3"
    },
    "language_info": {
      "name": "python"
    }
  },
  "cells": [
    {
      "cell_type": "markdown",
      "metadata": {
        "id": "view-in-github",
        "colab_type": "text"
      },
      "source": [
        "<a href=\"https://colab.research.google.com/github/CruxTemplar/COMP726-Tutorial-Exercises/blob/main/Exercise_1.ipynb\" target=\"_parent\"><img src=\"https://colab.research.google.com/assets/colab-badge.svg\" alt=\"Open In Colab\"/></a>"
      ]
    },
    {
      "cell_type": "markdown",
      "source": [
        "# Exercise 1\n",
        "## Question 1"
      ],
      "metadata": {
        "id": "uAHA54OIQuQr"
      }
    },
    {
      "cell_type": "code",
      "source": [
        "import hashlib\n",
        "import time\n",
        "\n",
        "def proof_of_work(data, difficulty_bits):\n",
        "    target = 2 ** (256 - difficulty_bits)\n",
        "    nonce = 0\n",
        "    start_time = time.time()\n",
        "    while True:\n",
        "        block_data = f\"{data}{nonce}\".encode('utf-8')\n",
        "        hash_result = hashlib.sha256(block_data).hexdigest()\n",
        "        if int(hash_result, 16) < target:\n",
        "            elapsed_time = time.time() - start_time\n",
        "            print(f\"Block found!\")\n",
        "            print(f\"Nonce: {nonce}\")\n",
        "            print(f\"Hash: {hash_result}\")\n",
        "            print(f\"Difficulty: {difficulty_bits} bits\")\n",
        "            print(f\"Elapsed time: {elapsed_time:.2f} seconds\\n\")\n",
        "            return nonce, hash_result, elapsed_time\n",
        "        nonce += 1\n",
        "\n",
        "# Test script with two difficulties\n",
        "data = \"ProofOfWorkDemo\"\n",
        "\n",
        "print(\"Demonstrating difficulty 20 bits\")\n",
        "result_20_bits = proof_of_work(data, 20)\n",
        "\n",
        "print(\"Demonstrating difficulty 24 bits\")\n",
        "result_24_bits = proof_of_work(data, 24)"
      ],
      "metadata": {
        "id": "gANG86l__Jo5",
        "colab": {
          "base_uri": "https://localhost:8080/"
        },
        "outputId": "b64fa39a-accf-4642-a21f-ca7f84788072"
      },
      "execution_count": null,
      "outputs": [
        {
          "output_type": "stream",
          "name": "stdout",
          "text": [
            "Demonstrating difficulty 20 bits\n",
            "Block found!\n",
            "Nonce: 746387\n",
            "Hash: 00000fa6779109363ee216ba2a52cae07e820cfd50126a43ca5d164392dacc03\n",
            "Difficulty: 20 bits\n",
            "Elapsed time: 1.32 seconds\n",
            "\n",
            "Demonstrating difficulty 24 bits\n",
            "Block found!\n",
            "Nonce: 18624049\n",
            "Hash: 0000006a96983a0e0bbdb323d4fba5803aecbae796416c88376e0161a0c72c3c\n",
            "Difficulty: 24 bits\n",
            "Elapsed time: 31.47 seconds\n",
            "\n"
          ]
        }
      ]
    }
  ]
}