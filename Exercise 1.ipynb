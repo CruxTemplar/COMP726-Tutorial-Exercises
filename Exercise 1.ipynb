#Exercise 1

## Question 1:

Mining difficulty is not only represented by leading zeroes (powers of 16) but by a value (hex number) that is recalculated every 2016 blocks (in Bitcoin). Write a script demonstrating simplified proof-of-work, using 

*'if hash < target: block_found = True'*

and run your simplified proof-of-work in two different difficulties.

import hashlib
import time

def proof_of_work(data, difficulty_bits):
    target = 2 ** (256 - difficulty_bits)
    nonce = 0
    start_time = time.time()
    while True:
        block_data = f"{data}{nonce}".encode('utf-8')
        hash_result = hashlib.sha256(block_data).hexdigest()
        if int(hash_result, 16) < target:
            elapsed_time = time.time() - start_time
            print(f"Block found!")
            print(f"Nonce: {nonce}")
            print(f"Hash: {hash_result}")
            print(f"Difficulty: {difficulty_bits} bits")
            print(f"Elapsed time: {elapsed_time:.2f} seconds\n")
            return nonce, hash_result, elapsed_time
        nonce += 1

# Test script with two difficulties
data = "ProofOfWorkDemo"

print("Demonstrating difficulty 20 bits")
proof_of_work(data, 20)

print("Demonstrating difficulty 24 bits")
proof_of_work(data, 24)
