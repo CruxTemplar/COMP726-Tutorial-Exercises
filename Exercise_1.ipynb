{
  "nbformat": 4,
  "nbformat_minor": 0,
  "metadata": {
    "colab": {
      "provenance": [],
      "authorship_tag": "ABX9TyMHIfR9HflPaV5KXM8lF8OA",
      "include_colab_link": true
    },
    "kernelspec": {
      "name": "python3",
      "display_name": "Python 3"
    },
    "language_info": {
      "name": "python"
    }
  },
  "cells": [
    {
      "cell_type": "markdown",
      "metadata": {
        "id": "view-in-github",
        "colab_type": "text"
      },
      "source": [
        "<a href=\"https://colab.research.google.com/github/CruxTemplar/COMP726-Tutorial-Exercises/blob/main/Exercise_1.ipynb\" target=\"_parent\"><img src=\"https://colab.research.google.com/assets/colab-badge.svg\" alt=\"Open In Colab\"/></a>"
      ]
    },
    {
      "cell_type": "markdown",
      "source": [
        "# Exercise 1\n",
        "## Question 1"
      ],
      "metadata": {
        "id": "uAHA54OIQuQr"
      }
    },
    {
      "cell_type": "code",
      "source": [
        "import hashlib\n",
        "import time\n",
        "\n",
        "def proof_of_work(data, difficulty_bits):\n",
        "    target = 2 << (256 - difficulty_bits)\n",
        "    nonce = 0\n",
        "    start_time = time.time()\n",
        "    while True:\n",
        "        block_data = f\"{data}{nonce}\".encode('utf-8')\n",
        "        hash_bytes = hashlib.sha256(block_data).digest()\n",
        "        hash_int = int.from_bytes(hash_bytes, 'big')\n",
        "        if hash_int < target:\n",
        "            elapsed_time = time.time() - start_time\n",
        "            print(f\"Block found!\")\n",
        "            print(f\"Nonce: {nonce}\")\n",
        "            print(f\"Hash: {hash_int}\")\n",
        "            print(f\"Difficulty: {difficulty_bits} bits\")\n",
        "            print(f\"Elapsed time: {elapsed_time:.2f} seconds\\n\")\n",
        "            return nonce, hash_int, elapsed_time\n",
        "        nonce += 1\n",
        "\n",
        "# Test script with two difficulties\n",
        "#data = \"ProofOfWorkDemo\"\n",
        "\n",
        "print(\"Demonstrating difficulty 20 bits\")\n",
        "result_20_bits = proof_of_work(data, 20)\n",
        "\n",
        "print(\"Demonstrating difficulty 24 bits\")\n",
        "result_24_bits = proof_of_work(data, 24)"
      ],
      "metadata": {
        "id": "gANG86l__Jo5",
        "colab": {
          "base_uri": "https://localhost:8080/"
        },
        "outputId": "fbea8a22-d89f-412d-81d7-23c49a5aff94"
      },
      "execution_count": null,
      "outputs": [
        {
          "output_type": "stream",
          "name": "stdout",
          "text": [
            "Demonstrating difficulty 20 bits\n",
            "Block found!\n",
            "Nonce: 746387\n",
            "Hash: 108014138175657171998993247885018019441094056434721752887733201361619971\n",
            "Difficulty: 20 bits\n",
            "Elapsed time: 1.04 seconds\n",
            "\n",
            "Demonstrating difficulty 24 bits\n",
            "Block found!\n",
            "Nonce: 3065748\n",
            "Hash: 7034534138072461307420403056300610637299615539360083586970955465075212\n",
            "Difficulty: 24 bits\n",
            "Elapsed time: 4.21 seconds\n",
            "\n"
          ]
        }
      ]
    },
    {
      "cell_type": "markdown",
      "source": [
        "##Question 2"
      ],
      "metadata": {
        "id": "tyYKu-8o3qTp"
      }
    },
    {
      "cell_type": "code",
      "source": [
        "import hashlib\n",
        "import time\n",
        "\n",
        "def proof_of_work(data, difficulty_bits):\n",
        "    target = 1 << (256 - difficulty_bits)\n",
        "    nonce = 0\n",
        "    start_time = time.time()\n",
        "\n",
        "    while True:\n",
        "        block_data = f\"{data}{nonce}\".encode('utf-8')\n",
        "        hash_result = hashlib.sha256(block_data).hexdigest()\n",
        "\n",
        "        if int(hash_result, 16) < target:\n",
        "            elapsed_time = time.time() - start_time\n",
        "            print(f\"Block found!\")\n",
        "            print(f\"Nonce: {nonce}\")\n",
        "            print(f\"Hash: {hash_result}\")\n",
        "            print(f\"Difficulty: {difficulty_bits} bits\")\n",
        "            print(f\"Elapsed time: {elapsed_time:.2f} seconds\\n\")\n",
        "            return nonce, hash_result, elapsed_time\n",
        "        nonce += 1\n",
        "\n",
        "# Parameters\n",
        "target_time = 5.0  # seconds per block (expected)\n",
        "num_blocks = 5     # number of blocks to mine\n",
        "difficulty_bits = 20  # initial difficulty\n",
        "\n",
        "for height in range(1, num_blocks + 1):\n",
        "    print(f\"--- Mining block {height} at difficulty {difficulty_bits} ---\")\n",
        "    nonce, h, elapsed = proof_of_work(f\"Block{height}\", difficulty_bits)\n",
        "\n",
        "    # Difficulty adjustment\n",
        "    if elapsed < target_time / 2:\n",
        "        difficulty_bits += 1\n",
        "        print(f\"⏫ Block mined too fast ({elapsed:.2f}s). Increasing difficulty → {difficulty_bits}\\n\")\n",
        "    elif elapsed > target_time * 2:\n",
        "        difficulty_bits = max(1, difficulty_bits - 1)\n",
        "        print(f\"⏬ Block mined too slow ({elapsed:.2f}s). Decreasing difficulty → {difficulty_bits}\\n\")\n",
        "    else:\n",
        "        print(f\"⏸️ Block time acceptable ({elapsed:.2f}s). Difficulty stays at {difficulty_bits}\\n\")\n"
      ],
      "metadata": {
        "id": "bLlqd_B13vqX",
        "outputId": "17b58a38-a58b-44e8-92ad-5af322ec92e8",
        "colab": {
          "base_uri": "https://localhost:8080/"
        }
      },
      "execution_count": 1,
      "outputs": [
        {
          "output_type": "stream",
          "name": "stdout",
          "text": [
            "--- Mining block 1 at difficulty 20 ---\n",
            "Block found!\n",
            "Nonce: 2113426\n",
            "Hash: 00000462cc97cc2a25bdc2fec85e174876e541e4d7198d7807281ccd6d9a0ecb\n",
            "Difficulty: 20 bits\n",
            "Elapsed time: 5.00 seconds\n",
            "\n",
            "⏸️ Block time acceptable (5.00s). Difficulty stays at 20\n",
            "\n",
            "--- Mining block 2 at difficulty 20 ---\n",
            "Block found!\n",
            "Nonce: 2944693\n",
            "Hash: 000003b306933adec683c16c346a5cad0e55b6f1b759b1fe26ff8d8a7eb3fdcf\n",
            "Difficulty: 20 bits\n",
            "Elapsed time: 5.54 seconds\n",
            "\n",
            "⏸️ Block time acceptable (5.54s). Difficulty stays at 20\n",
            "\n",
            "--- Mining block 3 at difficulty 20 ---\n",
            "Block found!\n",
            "Nonce: 859355\n",
            "Hash: 00000f839d5696b7ef303fb18ce8dd8bf3f2c7da6faefd26be8d3285769a8b12\n",
            "Difficulty: 20 bits\n",
            "Elapsed time: 1.26 seconds\n",
            "\n",
            "⏫ Block mined too fast (1.26s). Increasing difficulty → 21\n",
            "\n",
            "--- Mining block 4 at difficulty 21 ---\n",
            "Block found!\n",
            "Nonce: 3902908\n",
            "Hash: 000007d775abd312df7856d40c7a259e02cf30338495de9b81aa17bfaf584ae0\n",
            "Difficulty: 21 bits\n",
            "Elapsed time: 5.73 seconds\n",
            "\n",
            "⏸️ Block time acceptable (5.73s). Difficulty stays at 21\n",
            "\n",
            "--- Mining block 5 at difficulty 21 ---\n",
            "Block found!\n",
            "Nonce: 2677225\n",
            "Hash: 000004187e3094b0365f5b7ca3478c2b199ee4a31e3d890720d326369f50bb1b\n",
            "Difficulty: 21 bits\n",
            "Elapsed time: 4.95 seconds\n",
            "\n",
            "⏸️ Block time acceptable (4.95s). Difficulty stays at 21\n",
            "\n"
          ]
        }
      ]
    }
  ]
}