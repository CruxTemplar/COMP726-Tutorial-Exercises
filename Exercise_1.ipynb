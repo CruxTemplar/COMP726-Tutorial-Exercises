{
  "nbformat": 4,
  "nbformat_minor": 0,
  "metadata": {
    "colab": {
      "provenance": [],
      "authorship_tag": "ABX9TyNinU+dlejPYb9X+WnQqf9v",
      "include_colab_link": true
    },
    "kernelspec": {
      "name": "python3",
      "display_name": "Python 3"
    },
    "language_info": {
      "name": "python"
    }
  },
  "cells": [
    {
      "cell_type": "markdown",
      "metadata": {
        "id": "view-in-github",
        "colab_type": "text"
      },
      "source": [
        "<a href=\"https://colab.research.google.com/github/CruxTemplar/COMP726-Tutorial-Exercises/blob/main/Exercise_1.ipynb\" target=\"_parent\"><img src=\"https://colab.research.google.com/assets/colab-badge.svg\" alt=\"Open In Colab\"/></a>"
      ]
    },
    {
      "cell_type": "markdown",
      "source": [
        "# Exercise 1\n",
        "## Question 1"
      ],
      "metadata": {
        "id": "uAHA54OIQuQr"
      }
    },
    {
      "cell_type": "code",
      "source": [
        "import hashlib\n",
        "import time\n",
        "\n",
        "def proof_of_work(data, difficulty_bits):\n",
        "    target = 2 << (256 - difficulty_bits)\n",
        "    nonce = 0\n",
        "    start_time = time.time()\n",
        "    while True:\n",
        "        block_data = f\"{data}{nonce}\".encode('utf-8')\n",
        "        hash_bytes = hashlib.sha256(block_data).digest()\n",
        "        hash_int = int.from_bytes(hash_bytes, 'big')\n",
        "        if hash_int < target:\n",
        "            elapsed_time = time.time() - start_time\n",
        "            print(f\"Block found!\")\n",
        "            print(f\"Nonce: {nonce}\")\n",
        "            print(f\"Hash: {hash_int}\")\n",
        "            print(f\"Difficulty: {difficulty_bits} bits\")\n",
        "            print(f\"Elapsed time: {elapsed_time:.2f} seconds\\n\")\n",
        "            return nonce, hash_int, elapsed_time\n",
        "        nonce += 1\n",
        "\n",
        "# Test script with two difficulties\n",
        "#data = \"ProofOfWorkDemo\"\n",
        "\n",
        "print(\"Demonstrating difficulty 20 bits\")\n",
        "result_20_bits = proof_of_work(data, 20)\n",
        "\n",
        "print(\"Demonstrating difficulty 24 bits\")\n",
        "result_24_bits = proof_of_work(data, 24)"
      ],
      "metadata": {
        "id": "gANG86l__Jo5",
        "colab": {
          "base_uri": "https://localhost:8080/"
        },
        "outputId": "fbea8a22-d89f-412d-81d7-23c49a5aff94"
      },
      "execution_count": 4,
      "outputs": [
        {
          "output_type": "stream",
          "name": "stdout",
          "text": [
            "Demonstrating difficulty 20 bits\n",
            "Block found!\n",
            "Nonce: 746387\n",
            "Hash: 108014138175657171998993247885018019441094056434721752887733201361619971\n",
            "Difficulty: 20 bits\n",
            "Elapsed time: 1.04 seconds\n",
            "\n",
            "Demonstrating difficulty 24 bits\n",
            "Block found!\n",
            "Nonce: 3065748\n",
            "Hash: 7034534138072461307420403056300610637299615539360083586970955465075212\n",
            "Difficulty: 24 bits\n",
            "Elapsed time: 4.21 seconds\n",
            "\n"
          ]
        }
      ]
    }
  ]
}