{
  "nbformat": 4,
  "nbformat_minor": 0,
  "metadata": {
    "colab": {
      "provenance": [],
      "authorship_tag": "ABX9TyMzcxSsovuEd09C7ExA9IKE",
      "include_colab_link": true
    },
    "kernelspec": {
      "name": "python3",
      "display_name": "Python 3"
    },
    "language_info": {
      "name": "python"
    }
  },
  "cells": [
    {
      "cell_type": "markdown",
      "metadata": {
        "id": "view-in-github",
        "colab_type": "text"
      },
      "source": [
        "<a href=\"https://colab.research.google.com/github/CruxTemplar/COMP726-Tutorial-Exercises/blob/main/Exercise_2.ipynb\" target=\"_parent\"><img src=\"https://colab.research.google.com/assets/colab-badge.svg\" alt=\"Open In Colab\"/></a>"
      ]
    },
    {
      "cell_type": "markdown",
      "source": [
        "# Exercise 2"
      ],
      "metadata": {
        "id": "BD4keLeBPiuW"
      }
    },
    {
      "cell_type": "markdown",
      "source": [
        "##Question 4\n",
        "\n",
        "Using remix, modify the Storage.sol contract to store and retrieve a text variable: yourName. How much gas does this use, how does this compare to storing an integer?"
      ],
      "metadata": {
        "id": "taTwLlDmPtiR"
      }
    },
    {
      "cell_type": "code",
      "source": [
        "//To be executed via Remix Ethereum IDE\n",
        "\n",
        "// SPDX-License-Identifier: GPL-3.0\n",
        "\n",
        "pragma solidity >=0.8.2 <0.9.0;\n",
        "\n",
        "/**\n",
        " * @title Storage\n",
        " * @dev Store & retrieve number and a string\n",
        " * @custom:dev-run-script ./scripts/deploy_with_ethers.ts\n",
        " */\n",
        "contract Storage {\n",
        "\n",
        "    uint256 number;\n",
        "    string yourName;\n",
        "\n",
        "    /**\n",
        "     * @dev Store value in variable\n",
        "     * @param num value to store\n",
        "     */\n",
        "    function store(uint256 num) public {\n",
        "        number = num;\n",
        "    }\n",
        "\n",
        "    /**\n",
        "     * @dev Return value\n",
        "     * @return value of 'number'\n",
        "     */\n",
        "    function retrieve() public view returns (uint256){\n",
        "        return number;\n",
        "    }\n",
        "\n",
        "    /**\n",
        "     * @dev Store a string value in yourName\n",
        "     * @param name value to store\n",
        "     */\n",
        "    function storeName(string memory name) public {\n",
        "        yourName = name;\n",
        "    }\n",
        "\n",
        "    /**\n",
        "     * @dev Return value of yourName\n",
        "     * @return value of 'yourName'\n",
        "     */\n",
        "    function retrieveName() public view returns (string memory){\n",
        "        return yourName;\n",
        "    }\n",
        "}\n"
      ],
      "metadata": {
        "id": "5BborEsrPzcm"
      },
      "execution_count": null,
      "outputs": []
    },
    {
      "cell_type": "markdown",
      "source": [
        "Storing a text variable cost the contract **25243** gas. Retrieving the text variable cost the contract **3329** gas.\n",
        "\n",
        "In terms of comparision, storing a integer and storing a text variable have a similar gas cost. Storing is considered the most expensive part of gas costs since it requires writing into the contract for the first time, roughly **23000** gas for either an integer or a text variable.\n",
        "\n",
        "Depending on the size and length of both the integer and text variable, you can find that storing a fixed integer costs less than a text variable. This is due to how Ethereum storage works. Ethereum Storage is organized into 32 bytes slots. Integers, most notably the **uint256** class are always 32 bytes and fit perfectly in Etherum Storage. However, text variables or **strings** are considered dynamic length and calculate each letter used as one byte. This results in text variables needing 2 slots, costing more if it exceeds the 32 bytes of memory in the Ethereum Storage.   "
      ],
      "metadata": {
        "id": "J4MMUfre8Md0"
      }
    },
    {
      "cell_type": "markdown",
      "source": [
        "## Question 5\n",
        "Where is a deployed contract stored in Ethereum? Comment on the different gas costs for:\n",
        "\n",
        " a) deploying a contract,\n",
        "\n",
        " b) calling a function, and\n",
        "\n",
        " c) storing an address."
      ],
      "metadata": {
        "id": "1novASf7l5rB"
      }
    },
    {
      "cell_type": "markdown",
      "source": [
        "When a contract is deployed, it's bytecode is stored on the Ethereum Blockchain at a unique contract address. This contract address enables other contracts and accounts to interact with the deployed contract. Within this contract address, holds the contract storage which essentially contains the data and information about the contract.\n",
        "\n",
        "The different gas costs for deploying a contract, calling a function and storing an address vary due to the nature of blockchains. Gas in Ethereum is a measure of computational cost in order to perform operations on the network. Deploying a contract will always cost the most gas because essentially you are storing the contract bytecode on-chain which could be dependant on the length and contents of the data (storing names and strings will cost more than numberical figures). Ethereum calculates this by charging gas per byte of code so a string of letters taking several bytes will cost more than a number that only needs one byte.\n",
        "\n",
        "Calling a function has **two** different gas costs: a **read-only** function call and a **state-changing** function call. A read-only function call requests for specific information on the system and costs little to no gas, similar to looking up your bank account statement. A state-changing function call works differently as it modifies the contract's data. This requires creating a transaction and updating the blockchain. For the blockchain to accept the transaction, it needs to be validate, mined, stored and recorded as part of the blockchain system. This in return costs a fair bit amount of gas as it requires computational power but not as much as writing contracts to the blockchain system itself. We can compare a state-changing function to updating the balance of a bank account statement. The balance of the account is updated to the new balance and is verified before it is validated.\n",
        "\n",
        "Storing an address can be broken down into writing an address onto a slot on the contract's storage. If it is the first time the storage space is being written onto it, there will be a one-time gas cost of roughly **20,000** to accommodate the blockchain updating the contract's storage. If it is writing over existing information in that storage, then the gas cost isn't as high as writing a new contract and will only cost around **5000** gas.\n"
      ],
      "metadata": {
        "id": "BeyeDN2XbQ9-"
      }
    },
    {
      "cell_type": "markdown",
      "source": [
        "## Question 6\n",
        "\n",
        "Above, where it says STORAGE AT 0X...., what does this mean? Are there differences between someone's Ethereum Address and where your contract is stored?"
      ],
      "metadata": {
        "id": "R8K2yzlemM6l"
      }
    },
    {
      "cell_type": "markdown",
      "source": [
        "The definition of **STORAGE AT 0X** is the contract's address and its contents. Whenever information needs to be written or read from it, you would need the address in order to find what you're looking for.\n",
        "\n",
        "Differences between someone's Ethereum Address and where your contract is stored comes down to the addressing of the contract. They use different hashes and cannot be linked to one another. Someone Etherum Address will be hashed differently and look different to your contract's storage."
      ],
      "metadata": {
        "id": "gWzn4Snw6gLu"
      }
    }
  ]
}